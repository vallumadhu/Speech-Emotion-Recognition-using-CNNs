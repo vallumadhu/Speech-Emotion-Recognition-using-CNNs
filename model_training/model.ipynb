{
 "cells": [
  {
   "cell_type": "code",
   "execution_count": null,
   "id": "300ed26d",
   "metadata": {},
   "outputs": [],
   "source": [
    "import tensorflow as tf\n",
    "from tensorflow.keras.layers import Dense,Conv2D,Dropout,MaxPool2D,Flatten\n",
    "from tensorflow.keras.models import Sequential\n",
    "import numpy as np\n",
    "from PIL import Image\n",
    "import os\n",
    "from sklearn.model_selection import train_test_split\n",
    "from sklearn.metrics import accuracy_score"
   ]
  },
  {
   "cell_type": "code",
   "execution_count": null,
   "id": "5fa1f9bf",
   "metadata": {},
   "outputs": [],
   "source": [
    "model = Sequential()\n",
    "model.add(Conv2D(4,kernel_size=(3,3),activation=\"relu\",padding=\"valid\",input_shape=(224,224,3)))\n",
    "model.add(Conv2D(16,kernel_size=(3,3),activation=\"relu\",padding=\"valid\"))\n",
    "\n",
    "model.add(MaxPool2D(pool_size=(2,2)))\n",
    "\n",
    "model.add(Conv2D(32,kernel_size=(3,3),activation=\"relu\",padding=\"valid\"))\n",
    "model.add(Conv2D(64,kernel_size=(3,3),activation=\"relu\",padding=\"valid\"))\n",
    "\n",
    "model.add(MaxPool2D(pool_size=(2,2)))\n",
    "\n",
    "model.add(Flatten())\n",
    "model.add(Dense(64,activation=\"relu\"))\n",
    "model.add(Dense(16,activation=\"relu\"))\n",
    "model.add(Dense(8,activation=\"softmax\"))\n",
    "\n",
    "model.compile(loss=\"categorical_crossentropy\",optimizer=\"adam\")"
   ]
  },
  {
   "cell_type": "code",
   "execution_count": null,
   "id": "12b4b104",
   "metadata": {},
   "outputs": [],
   "source": [
    "labels = [\"angry\", \"disgust\", \"fear\", \"happy\", \"neutral\", \"sad\", \"surprise\", \"surprised\"]\n",
    "values = [np.eye(len(labels))[i] for i in range(len(labels))]\n",
    "\n",
    "one_hot_dict = dict(zip(labels,values))"
   ]
  },
  {
   "cell_type": "code",
   "execution_count": null,
   "id": "2c204292",
   "metadata": {},
   "outputs": [],
   "source": [
    "data_folder_path = \"../data\"\n",
    "img_paths = []\n",
    "\n",
    "for type_path in os.listdir(data_folder_path):\n",
    "\n",
    "    if type_path != \"data_preprocessing.ipynb\":\n",
    "        spectrogram_paths = os.listdir(os.path.join(data_folder_path, type_path))\n",
    "\n",
    "        for spectrogram_path in spectrogram_paths:\n",
    "            img_path = os.path.join(data_folder_path, type_path, spectrogram_path)\n",
    "            img_paths.append(img_path)\n",
    "\n",
    "img_paths = np.array(img_paths)\n",
    "np.random.shuffle(img_paths)"
   ]
  },
  {
   "cell_type": "code",
   "execution_count": null,
   "id": "3c8053bf",
   "metadata": {},
   "outputs": [],
   "source": [
    "def image_processor(img_path):\n",
    "    img = Image.open(img_path).convert(\"RGB\")\n",
    "    img = img.resize((224,224))\n",
    "    img = np.array(img)\n",
    "\n",
    "    img = img/255.0\n",
    "    \n",
    "    category = img_path.split(os.sep)[1]\n",
    "    label = one_hot_dict[category]\n",
    "\n",
    "\n",
    "    return (img,label)"
   ]
  },
  {
   "cell_type": "code",
   "execution_count": null,
   "id": "1324512e",
   "metadata": {},
   "outputs": [],
   "source": [
    "X = []\n",
    "Y = []\n",
    "\n",
    "for img_path in img_paths:\n",
    "    img, label = image_processor(img_path)\n",
    "    X.append(img)\n",
    "    Y.append(label)\n",
    "\n",
    "X = np.array(X)\n",
    "Y = np.array(Y)\n",
    "print(X.shape, Y.shape)"
   ]
  },
  {
   "cell_type": "code",
   "execution_count": null,
   "id": "97dea770",
   "metadata": {},
   "outputs": [],
   "source": [
    "X_train, X_test, Y_train, Y_test = train_test_split(X, Y, test_size=0.2, random_state=2, shuffle=True)"
   ]
  },
  {
   "cell_type": "code",
   "execution_count": null,
   "id": "b04241db",
   "metadata": {},
   "outputs": [],
   "source": [
    "model.fit(X_train,Y_train, epochs=10)"
   ]
  },
  {
   "cell_type": "code",
   "execution_count": null,
   "id": "acee0356",
   "metadata": {},
   "outputs": [],
   "source": [
    "y_true = np.argmax(Y_train, axis=1)\n",
    "y_pred = np.argmax(model.predict(X_train), axis=1)\n",
    "\n",
    "accuracy = accuracy_score(y_true, y_pred)\n",
    "print(\"Training Accuracy:\", accuracy)"
   ]
  },
  {
   "cell_type": "code",
   "execution_count": null,
   "id": "c743577d",
   "metadata": {},
   "outputs": [],
   "source": [
    "y_true = np.argmax(Y_test, axis=1)\n",
    "y_pred = np.argmax(model.predict(X_test), axis=1)\n",
    "\n",
    "accuracy = accuracy_score(y_true, y_pred)\n",
    "print(\"Test Accuracy:\", accuracy)"
   ]
  },
  {
   "cell_type": "code",
   "execution_count": null,
   "id": "f5d0bc77",
   "metadata": {},
   "outputs": [],
   "source": [
    "for i in range(y_pred.shape[0]):\n",
    "    print(labels[y_pred[i]],end=\":\")\n",
    "    print(labels[y_true[i]])"
   ]
  },
  {
   "cell_type": "markdown",
   "id": "9b4faa89",
   "metadata": {},
   "source": [
    "# Testing with random data from internet"
   ]
  },
  {
   "cell_type": "code",
   "execution_count": null,
   "id": "799977de",
   "metadata": {},
   "outputs": [],
   "source": [
    "import librosa\n",
    "from matplotlib import pyplot as plt"
   ]
  },
  {
   "cell_type": "code",
   "execution_count": null,
   "id": "002982e7",
   "metadata": {},
   "outputs": [],
   "source": [
    "def audio_to_spectrogram(img_path,save_path=\".\",img_name=\"img\"):\n",
    "  \n",
    "  audio_data, sample_rate = librosa.load(img_path)\n",
    "\n",
    "  Spectrogram = librosa.feature.melspectrogram(y=audio_data, sr=sample_rate, n_mels=128, fmax=8000)\n",
    "\n",
    "  Spectrogram_dB = librosa.power_to_db(Spectrogram, ref=np.max)\n",
    "\n",
    "  plt.figure(figsize=(12, 12))\n",
    "  librosa.display.specshow(Spectrogram_dB, sr=sample_rate,fmax=8000,cmap=\"magma\")\n",
    "  os.makedirs(save_path, exist_ok=True)\n",
    "\n",
    "  plt.savefig(f\"{save_path}/{img_name}_img.png\",bbox_inches = 'tight', pad_inches = 0)\n",
    "  plt.close()\n",
    "  return f\"{save_path}/{img_name}_img.png\""
   ]
  },
  {
   "cell_type": "code",
   "execution_count": null,
   "id": "5517cf6f",
   "metadata": {},
   "outputs": [],
   "source": [
    "audio_path = \"./shut up.mp3\"\n",
    "img_path = audio_to_spectrogram(audio_path,img_name=\"shut_up\")"
   ]
  },
  {
   "cell_type": "code",
   "execution_count": null,
   "id": "eef50d13",
   "metadata": {},
   "outputs": [],
   "source": [
    "def test_img_preprocessor(img_path):\n",
    "    img = Image.open(img_path).convert(\"RGB\")\n",
    "    img = img.resize((224,224))\n",
    "    img = np.array(img)\n",
    "\n",
    "    img = img/255.0\n",
    "    img.reshape(1,224,224,3)\n",
    "    return img"
   ]
  },
  {
   "cell_type": "code",
   "execution_count": null,
   "id": "97aaff73",
   "metadata": {},
   "outputs": [],
   "source": [
    "test_img = test_img_preprocessor(img_path)\n",
    "test_img.shape"
   ]
  },
  {
   "cell_type": "code",
   "execution_count": null,
   "id": "1eb8f16e",
   "metadata": {},
   "outputs": [],
   "source": [
    "labels[np.argmax(model.predict(test_img.reshape(1,224,224,3)))]"
   ]
  },
  {
   "cell_type": "code",
   "execution_count": null,
   "id": "cba72e89",
   "metadata": {},
   "outputs": [],
   "source": [
    "model.save(\"model_9982.h5\")"
   ]
  }
 ],
 "metadata": {
  "kernelspec": {
   "display_name": ".venv",
   "language": "python",
   "name": "python3"
  },
  "language_info": {
   "codemirror_mode": {
    "name": "ipython",
    "version": 3
   },
   "file_extension": ".py",
   "mimetype": "text/x-python",
   "name": "python",
   "nbconvert_exporter": "python",
   "pygments_lexer": "ipython3",
   "version": "3.13.5"
  }
 },
 "nbformat": 4,
 "nbformat_minor": 5
}
